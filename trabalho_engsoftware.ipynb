{
 "cells": [
  {
   "cell_type": "code",
   "execution_count": 24,
   "metadata": {},
   "outputs": [
    {
     "data": {
      "text/html": [
       "        <script type=\"text/javascript\">\n",
       "        window.PlotlyConfig = {MathJaxConfig: 'local'};\n",
       "        if (window.MathJax) {MathJax.Hub.Config({SVG: {font: \"STIX-Web\"}});}\n",
       "        if (typeof require !== 'undefined') {\n",
       "        require.undef(\"plotly\");\n",
       "        requirejs.config({\n",
       "            paths: {\n",
       "                'plotly': ['https://cdn.plot.ly/plotly-latest.min']\n",
       "            }\n",
       "        });\n",
       "        require(['plotly'], function(Plotly) {\n",
       "            window._Plotly = Plotly;\n",
       "        });\n",
       "        }\n",
       "        </script>\n",
       "        "
      ]
     },
     "metadata": {},
     "output_type": "display_data"
    },
    {
     "data": {
      "application/vnd.jupyter.widget-view+json": {
       "model_id": "ceeba2845bc946ee96384ee83dfe6755",
       "version_major": 2,
       "version_minor": 0
      },
      "text/plain": [
       "interactive(children=(Dropdown(description='ano', options=('2015', '2016', '2017', '2018', '2019'), value='201…"
      ]
     },
     "metadata": {},
     "output_type": "display_data"
    }
   ],
   "source": [
    "import cufflinks as cf\n",
    "import pandas as pd\n",
    "import numpy as np\n",
    "import plotly.offline as py\n",
    "from __future__ import print_function\n",
    "from ipywidgets import interact, interactive, fixed, interact_manual\n",
    "import ipywidgets as widgets\n",
    "import plotly.graph_objs as go\n",
    "pd.options.mode.use_inf_as_na = True\n",
    "\n",
    "cf.go_offline()\n",
    "cf.set_config_file(theme=\"white\")\n",
    "\n",
    "\n",
    "\n",
    "\n",
    "def f(ano, mes):\n",
    "    arquivo = ano+'_'+mes+'.csv'\n",
    "    if arquivo == '2017_09.csv':\n",
    "        arquivo = '2017_09.xlsx'\n",
    "        df = pd.read_excel(arquivo, index_col=0)\n",
    "    elif arquivo == '2019_07.csv':\n",
    "        df = pd.read_csv(arquivo, encoding='ANSI', sep='\\t', low_memory=False)\n",
    "    else:\n",
    "        df = pd.read_csv(arquivo, encoding='ANSI', sep=';', low_memory=False)\n",
    "    df.columns = df.columns.str.strip().str.replace('Situação Voo', 'Situação').str.replace('situacao', 'Situação').str.replace('Situa‹o', 'Situação').str.replace('CANCELADO', 'Cancelado').str.replace('dt_chegada_prevista', 'Chegada Prevista').str.replace('dt_chegada_real', 'Chegada Real').str.replace('Data ', '')\n",
    "    df.Situação.value_counts().iplot(kind='bar', title='Situação dos vôos')\n",
    "\n",
    "    dg = df[df['Situação'] != 'Cancelado']\n",
    "    dg = dg[dg['Situação'] != 'CANCELADO']\n",
    "    dg['Atraso'] = np.where(pd.to_datetime(dg['Chegada Prevista'], format='%d/%m/%Y %H:%M', errors = 'coerce') < pd.to_datetime(dg['Chegada Real'], format='%d/%m/%Y %H:%M', errors = 'coerce'), 'Sim', 'Não')\n",
    "    dg['Atraso'].value_counts().iplot(kind='bar', title='Atrasos')\n",
    "\n",
    "\n",
    "    return df\n",
    "\n",
    "\n",
    "\n",
    "interact(f, ano=['2015','2016', '2017', '2018', '2019'], mes=['01','02','03','04','05','06','07','08','09','10','11','12']);"
   ]
  },
  {
   "cell_type": "code",
   "execution_count": null,
   "metadata": {},
   "outputs": [],
   "source": []
  },
  {
   "cell_type": "code",
   "execution_count": null,
   "metadata": {},
   "outputs": [],
   "source": []
  },
  {
   "cell_type": "code",
   "execution_count": null,
   "metadata": {},
   "outputs": [],
   "source": []
  }
 ],
 "metadata": {
  "kernelspec": {
   "display_name": "Python 3",
   "language": "python",
   "name": "python3"
  },
  "language_info": {
   "codemirror_mode": {
    "name": "ipython",
    "version": 3
   },
   "file_extension": ".py",
   "mimetype": "text/x-python",
   "name": "python",
   "nbconvert_exporter": "python",
   "pygments_lexer": "ipython3",
   "version": "3.8.5"
  }
 },
 "nbformat": 4,
 "nbformat_minor": 4
}
